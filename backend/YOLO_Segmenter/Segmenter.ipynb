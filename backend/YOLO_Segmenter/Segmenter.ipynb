{
 "cells": [
  {
   "cell_type": "markdown",
   "id": "343da895-72a6-45df-b548-cc3c46f45d17",
   "metadata": {},
   "source": [
    "<h1 align=\"center\">\n",
    "    YOLO v8-segmentation training \n",
    "</h1>"
   ]
  },
  {
   "cell_type": "markdown",
   "id": "ebee0294-e7e2-4c88-9683-849b4746e380",
   "metadata": {},
   "source": [
    "> ### This notebook contains the required code to train the YOLO v8 segmentation model and run its inference on a set of files\n",
    "___"
   ]
  },
  {
   "cell_type": "markdown",
   "id": "791c5048-6c8e-4d43-a182-3b277b817d70",
   "metadata": {},
   "source": [
    "#### Imports used packages"
   ]
  },
  {
   "cell_type": "code",
   "execution_count": null,
   "id": "af3fecbc-0d3d-4ea9-aa5b-4eb43050be87",
   "metadata": {
    "collapsed": true,
    "jupyter": {
     "outputs_hidden": true
    }
   },
   "outputs": [],
   "source": [
    "# All imports needed\n",
    "from ultralytics import YOLO\n",
    "import os\n",
    "import cv2 as cv\n",
    "from PIL import Image"
   ]
  },
  {
   "cell_type": "markdown",
   "id": "dcf732c2-3750-450c-83fc-b4e3a0ba8617",
   "metadata": {},
   "source": [
    "#### Loads pre-trained YOLO v8-segmentation model"
   ]
  },
  {
   "cell_type": "code",
   "execution_count": 1,
   "id": "ddfc76c0-d7a0-4567-9c6c-f10c0aa012a6",
   "metadata": {
    "collapsed": true,
    "jupyter": {
     "outputs_hidden": true
    }
   },
   "outputs": [],
   "source": [
    "# Load a model  ~ UPDATE MODEL PATH ~ \n",
    "model = YOLO(\"YOLO_Segmenter\\\\runs\\\\segment\\\\train\\\\weights\\\\best.pt\")"
   ]
  },
  {
   "cell_type": "markdown",
   "id": "b2ed5f67-a30e-4a15-99b9-3ff74a0b1a8b",
   "metadata": {},
   "source": [
    "#### Trains the loaded model on the dataset"
   ]
  },
  {
   "cell_type": "code",
   "execution_count": null,
   "id": "9d72a067-77d5-4d3d-8be2-040ef093e370",
   "metadata": {
    "collapsed": true,
    "jupyter": {
     "outputs_hidden": true
    }
   },
   "outputs": [],
   "source": [
    "# Train model with custom dataset\n",
    "results = model.train(data=\"Metal-Film-Leaded-Resistor-Color-Bands-4\\\\data.yaml\", epochs=100)"
   ]
  },
  {
   "cell_type": "markdown",
   "id": "6c36e1df-fdd6-4f86-8185-d99a1a0da070",
   "metadata": {},
   "source": [
    "#### Runs inference on a set of files"
   ]
  },
  {
   "cell_type": "code",
   "execution_count": 4,
   "id": "db23b9ad-7dea-473b-8e28-5d30b0185d12",
   "metadata": {
    "collapsed": true,
    "jupyter": {
     "outputs_hidden": true
    }
   },
   "outputs": [],
   "source": [
    "# Returns a list of all files in a given directory\n",
    "def get_files(dir):\n",
    "    tests = []\n",
    "    for root, dirs, files in os.walk(dir):\n",
    "        for name in files:\n",
    "            tests.append(os.path.join(dir,name))\n",
    "    return tests\n",
    "\n",
    "files = get_files(\"\")"
   ]
  },
  {
   "cell_type": "code",
   "execution_count": 41,
   "id": "cc5e5a06-9aba-42aa-bcc0-7ed09dac0499",
   "metadata": {
    "collapsed": true,
    "jupyter": {
     "outputs_hidden": true
    }
   },
   "outputs": [
    {
     "name": "stderr",
     "output_type": "stream",
     "text": [
      "\n",
      "image 1/1 D:\\Joule\\Documents\\Jhony\\Universidade\\UTFPR\\2023.2\\Oficinas\\Tests\\crop.jpg: 288x640 4 Resistor-Color-Bandss, 1 Resistor-Color-Bands-Start, 153.0ms\n",
      "Speed: 11.0ms preprocess, 153.0ms inference, 10.0ms postprocess per image at shape (1, 3, 288, 640)\n"
     ]
    }
   ],
   "source": [
    "path_test = ''\n",
    "pred = model(path_test)"
   ]
  },
  {
   "cell_type": "code",
   "execution_count": 58,
   "id": "c4a6b8f7-5fc5-4046-a987-640032bbb230",
   "metadata": {
    "collapsed": true,
    "jupyter": {
     "outputs_hidden": true
    }
   },
   "outputs": [
    {
     "name": "stdout",
     "output_type": "stream",
     "text": [
      "[     116.16      15.981]\n"
     ]
    }
   ],
   "source": [
    "print(pred[0].masks.xy[1][0])"
   ]
  },
  {
   "cell_type": "markdown",
   "id": "07a1fefe-15a2-412e-a0a6-a9158f1b28f5",
   "metadata": {},
   "source": [
    "### Uses the trained model and a Convex Hull algorithm to auto-label new images for the dataset\n",
    "> #### Reduces workload and speeds up labelling"
   ]
  },
  {
   "cell_type": "code",
   "execution_count": null,
   "id": "0efdb77e-f7a2-484d-927c-e89b2f28a037",
   "metadata": {
    "collapsed": true,
    "jupyter": {
     "outputs_hidden": true
    }
   },
   "outputs": [],
   "source": []
  }
 ],
 "metadata": {
  "kernelspec": {
   "display_name": "Python 3 (ipykernel)",
   "language": "python",
   "name": "python3"
  },
  "language_info": {
   "codemirror_mode": {
    "name": "ipython",
    "version": 3
   },
   "file_extension": ".py",
   "mimetype": "text/x-python",
   "name": "python",
   "nbconvert_exporter": "python",
   "pygments_lexer": "ipython3",
   "version": "3.11.4"
  }
 },
 "nbformat": 4,
 "nbformat_minor": 5
}
